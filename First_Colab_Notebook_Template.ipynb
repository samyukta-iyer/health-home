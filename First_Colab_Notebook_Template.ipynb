{
  "nbformat": 4,
  "nbformat_minor": 0,
  "metadata": {
    "colab": {
      "name": "First_Colab_Notebook_Template.ipynb",
      "provenance": [],
      "include_colab_link": true
    },
    "kernelspec": {
      "name": "python3",
      "display_name": "Python 3"
    }
  },
  "cells": [
    {
      "cell_type": "markdown",
      "metadata": {
        "id": "view-in-github",
        "colab_type": "text"
      },
      "source": [
        "<a href=\"https://colab.research.google.com/github/samyukta-iyer/health-home/blob/master/First_Colab_Notebook_Template.ipynb\" target=\"_parent\"><img src=\"https://colab.research.google.com/assets/colab-badge.svg\" alt=\"Open In Colab\"/></a>"
      ]
    },
    {
      "cell_type": "markdown",
      "metadata": {
        "id": "JCEBeS_474nU"
      },
      "source": [
        "# First Colab Notebook\n",
        "\n",
        "Colab notebooks are great for running and viewing the output of code cells side by side. Colab also provides many resources for you for free by default. "
      ]
    },
    {
      "cell_type": "markdown",
      "metadata": {
        "id": "hjMTUCLa8s6S"
      },
      "source": [
        "## Files\n",
        "\n",
        "If you click on the folder icon on the left, you can see your files. You can upload files by dragging and dropping them into the sidebar or hitting the file upload button. You could also connect to Google Drive if you want to link your drive to your notebook."
      ]
    },
    {
      "cell_type": "markdown",
      "metadata": {
        "id": "3rfBGCpO8tkQ"
      },
      "source": [
        "## Runtime\n",
        "\n",
        "Connecting to a runtime is easy. Just hit the connect button at the top right and you will be connected to a random runtime allocated by Google. You can change the runtime type by hitting Runtime->Change Runtime Type. If you want to use a GPU or a TPU those are available to you there."
      ]
    },
    {
      "cell_type": "markdown",
      "metadata": {
        "id": "aHlS2ZGC9SN3"
      },
      "source": [
        "## Running A Few Simple Code Blocks\n",
        "\n",
        "We can run a few code blocks below just to see what they look like."
      ]
    },
    {
      "cell_type": "markdown",
      "metadata": {
        "id": "41I_Hf4x-lrl"
      },
      "source": [
        "### Hello World"
      ]
    },
    {
      "cell_type": "code",
      "metadata": {
        "id": "vJPTA9q3787H"
      },
      "source": [
        ""
      ],
      "execution_count": null,
      "outputs": []
    },
    {
      "cell_type": "markdown",
      "metadata": {
        "id": "Z9uFtOMv-o8g"
      },
      "source": [
        "### Printing a Range of Numbers"
      ]
    },
    {
      "cell_type": "code",
      "metadata": {
        "id": "uNvSO8H28A7c"
      },
      "source": [
        ""
      ],
      "execution_count": null,
      "outputs": []
    },
    {
      "cell_type": "markdown",
      "metadata": {
        "id": "ofSxLdRs-skK"
      },
      "source": [
        "### Displaying an Image"
      ]
    },
    {
      "cell_type": "code",
      "metadata": {
        "id": "rnhAAPCU-rpv"
      },
      "source": [
        "import matplotlib.pyplot as plt\n",
        "import matplotlib.image as mpimg"
      ],
      "execution_count": null,
      "outputs": []
    },
    {
      "cell_type": "markdown",
      "metadata": {
        "id": "Yhf9-fF_Ar69"
      },
      "source": [
        "### Flipping An Image"
      ]
    },
    {
      "cell_type": "code",
      "metadata": {
        "id": "oghIyQ_bAumP"
      },
      "source": [
        ""
      ],
      "execution_count": null,
      "outputs": []
    }
  ]
}